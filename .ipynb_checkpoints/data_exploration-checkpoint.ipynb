{
 "cells": [
  {
   "cell_type": "code",
   "execution_count": 1,
   "metadata": {},
   "outputs": [],
   "source": [
    "import os\n",
    "import numpy as np\n",
    "import pandas as pd\n",
    "import matplotlib.pyplot as plt\n",
    "import seaborn as sns"
   ]
  },
  {
   "cell_type": "code",
   "execution_count": 110,
   "metadata": {},
   "outputs": [
    {
     "data": {
      "text/html": [
       "<div>\n",
       "<style scoped>\n",
       "    .dataframe tbody tr th:only-of-type {\n",
       "        vertical-align: middle;\n",
       "    }\n",
       "\n",
       "    .dataframe tbody tr th {\n",
       "        vertical-align: top;\n",
       "    }\n",
       "\n",
       "    .dataframe thead th {\n",
       "        text-align: right;\n",
       "    }\n",
       "</style>\n",
       "<table border=\"1\" class=\"dataframe\">\n",
       "  <thead>\n",
       "    <tr style=\"text-align: right;\">\n",
       "      <th></th>\n",
       "      <th>Date</th>\n",
       "      <th>Location</th>\n",
       "      <th>MinTemp</th>\n",
       "      <th>MaxTemp</th>\n",
       "      <th>Rainfall</th>\n",
       "      <th>Evaporation</th>\n",
       "      <th>Sunshine</th>\n",
       "      <th>WindGustDir</th>\n",
       "      <th>WindGustSpeed</th>\n",
       "      <th>WindDir9am</th>\n",
       "      <th>...</th>\n",
       "      <th>Humidity9am</th>\n",
       "      <th>Humidity3pm</th>\n",
       "      <th>Pressure9am</th>\n",
       "      <th>Pressure3pm</th>\n",
       "      <th>Cloud9am</th>\n",
       "      <th>Cloud3pm</th>\n",
       "      <th>Temp9am</th>\n",
       "      <th>Temp3pm</th>\n",
       "      <th>RainToday</th>\n",
       "      <th>RainTomorrow</th>\n",
       "    </tr>\n",
       "  </thead>\n",
       "  <tbody>\n",
       "    <tr>\n",
       "      <th>0</th>\n",
       "      <td>2008-12-01</td>\n",
       "      <td>Albury</td>\n",
       "      <td>13.4</td>\n",
       "      <td>22.9</td>\n",
       "      <td>0.6</td>\n",
       "      <td>NaN</td>\n",
       "      <td>NaN</td>\n",
       "      <td>W</td>\n",
       "      <td>44.0</td>\n",
       "      <td>W</td>\n",
       "      <td>...</td>\n",
       "      <td>71.0</td>\n",
       "      <td>22.0</td>\n",
       "      <td>1007.7</td>\n",
       "      <td>1007.1</td>\n",
       "      <td>8.0</td>\n",
       "      <td>NaN</td>\n",
       "      <td>16.9</td>\n",
       "      <td>21.8</td>\n",
       "      <td>No</td>\n",
       "      <td>No</td>\n",
       "    </tr>\n",
       "    <tr>\n",
       "      <th>1</th>\n",
       "      <td>2008-12-02</td>\n",
       "      <td>Albury</td>\n",
       "      <td>7.4</td>\n",
       "      <td>25.1</td>\n",
       "      <td>0.0</td>\n",
       "      <td>NaN</td>\n",
       "      <td>NaN</td>\n",
       "      <td>WNW</td>\n",
       "      <td>44.0</td>\n",
       "      <td>NNW</td>\n",
       "      <td>...</td>\n",
       "      <td>44.0</td>\n",
       "      <td>25.0</td>\n",
       "      <td>1010.6</td>\n",
       "      <td>1007.8</td>\n",
       "      <td>NaN</td>\n",
       "      <td>NaN</td>\n",
       "      <td>17.2</td>\n",
       "      <td>24.3</td>\n",
       "      <td>No</td>\n",
       "      <td>No</td>\n",
       "    </tr>\n",
       "    <tr>\n",
       "      <th>2</th>\n",
       "      <td>2008-12-03</td>\n",
       "      <td>Albury</td>\n",
       "      <td>12.9</td>\n",
       "      <td>25.7</td>\n",
       "      <td>0.0</td>\n",
       "      <td>NaN</td>\n",
       "      <td>NaN</td>\n",
       "      <td>WSW</td>\n",
       "      <td>46.0</td>\n",
       "      <td>W</td>\n",
       "      <td>...</td>\n",
       "      <td>38.0</td>\n",
       "      <td>30.0</td>\n",
       "      <td>1007.6</td>\n",
       "      <td>1008.7</td>\n",
       "      <td>NaN</td>\n",
       "      <td>2.0</td>\n",
       "      <td>21.0</td>\n",
       "      <td>23.2</td>\n",
       "      <td>No</td>\n",
       "      <td>No</td>\n",
       "    </tr>\n",
       "    <tr>\n",
       "      <th>3</th>\n",
       "      <td>2008-12-04</td>\n",
       "      <td>Albury</td>\n",
       "      <td>9.2</td>\n",
       "      <td>28.0</td>\n",
       "      <td>0.0</td>\n",
       "      <td>NaN</td>\n",
       "      <td>NaN</td>\n",
       "      <td>NE</td>\n",
       "      <td>24.0</td>\n",
       "      <td>SE</td>\n",
       "      <td>...</td>\n",
       "      <td>45.0</td>\n",
       "      <td>16.0</td>\n",
       "      <td>1017.6</td>\n",
       "      <td>1012.8</td>\n",
       "      <td>NaN</td>\n",
       "      <td>NaN</td>\n",
       "      <td>18.1</td>\n",
       "      <td>26.5</td>\n",
       "      <td>No</td>\n",
       "      <td>No</td>\n",
       "    </tr>\n",
       "    <tr>\n",
       "      <th>4</th>\n",
       "      <td>2008-12-05</td>\n",
       "      <td>Albury</td>\n",
       "      <td>17.5</td>\n",
       "      <td>32.3</td>\n",
       "      <td>1.0</td>\n",
       "      <td>NaN</td>\n",
       "      <td>NaN</td>\n",
       "      <td>W</td>\n",
       "      <td>41.0</td>\n",
       "      <td>ENE</td>\n",
       "      <td>...</td>\n",
       "      <td>82.0</td>\n",
       "      <td>33.0</td>\n",
       "      <td>1010.8</td>\n",
       "      <td>1006.0</td>\n",
       "      <td>7.0</td>\n",
       "      <td>8.0</td>\n",
       "      <td>17.8</td>\n",
       "      <td>29.7</td>\n",
       "      <td>No</td>\n",
       "      <td>No</td>\n",
       "    </tr>\n",
       "    <tr>\n",
       "      <th>...</th>\n",
       "      <td>...</td>\n",
       "      <td>...</td>\n",
       "      <td>...</td>\n",
       "      <td>...</td>\n",
       "      <td>...</td>\n",
       "      <td>...</td>\n",
       "      <td>...</td>\n",
       "      <td>...</td>\n",
       "      <td>...</td>\n",
       "      <td>...</td>\n",
       "      <td>...</td>\n",
       "      <td>...</td>\n",
       "      <td>...</td>\n",
       "      <td>...</td>\n",
       "      <td>...</td>\n",
       "      <td>...</td>\n",
       "      <td>...</td>\n",
       "      <td>...</td>\n",
       "      <td>...</td>\n",
       "      <td>...</td>\n",
       "      <td>...</td>\n",
       "    </tr>\n",
       "    <tr>\n",
       "      <th>142188</th>\n",
       "      <td>2017-06-20</td>\n",
       "      <td>Uluru</td>\n",
       "      <td>3.5</td>\n",
       "      <td>21.8</td>\n",
       "      <td>0.0</td>\n",
       "      <td>NaN</td>\n",
       "      <td>NaN</td>\n",
       "      <td>E</td>\n",
       "      <td>31.0</td>\n",
       "      <td>ESE</td>\n",
       "      <td>...</td>\n",
       "      <td>59.0</td>\n",
       "      <td>27.0</td>\n",
       "      <td>1024.7</td>\n",
       "      <td>1021.2</td>\n",
       "      <td>NaN</td>\n",
       "      <td>NaN</td>\n",
       "      <td>9.4</td>\n",
       "      <td>20.9</td>\n",
       "      <td>No</td>\n",
       "      <td>No</td>\n",
       "    </tr>\n",
       "    <tr>\n",
       "      <th>142189</th>\n",
       "      <td>2017-06-21</td>\n",
       "      <td>Uluru</td>\n",
       "      <td>2.8</td>\n",
       "      <td>23.4</td>\n",
       "      <td>0.0</td>\n",
       "      <td>NaN</td>\n",
       "      <td>NaN</td>\n",
       "      <td>E</td>\n",
       "      <td>31.0</td>\n",
       "      <td>SE</td>\n",
       "      <td>...</td>\n",
       "      <td>51.0</td>\n",
       "      <td>24.0</td>\n",
       "      <td>1024.6</td>\n",
       "      <td>1020.3</td>\n",
       "      <td>NaN</td>\n",
       "      <td>NaN</td>\n",
       "      <td>10.1</td>\n",
       "      <td>22.4</td>\n",
       "      <td>No</td>\n",
       "      <td>No</td>\n",
       "    </tr>\n",
       "    <tr>\n",
       "      <th>142190</th>\n",
       "      <td>2017-06-22</td>\n",
       "      <td>Uluru</td>\n",
       "      <td>3.6</td>\n",
       "      <td>25.3</td>\n",
       "      <td>0.0</td>\n",
       "      <td>NaN</td>\n",
       "      <td>NaN</td>\n",
       "      <td>NNW</td>\n",
       "      <td>22.0</td>\n",
       "      <td>SE</td>\n",
       "      <td>...</td>\n",
       "      <td>56.0</td>\n",
       "      <td>21.0</td>\n",
       "      <td>1023.5</td>\n",
       "      <td>1019.1</td>\n",
       "      <td>NaN</td>\n",
       "      <td>NaN</td>\n",
       "      <td>10.9</td>\n",
       "      <td>24.5</td>\n",
       "      <td>No</td>\n",
       "      <td>No</td>\n",
       "    </tr>\n",
       "    <tr>\n",
       "      <th>142191</th>\n",
       "      <td>2017-06-23</td>\n",
       "      <td>Uluru</td>\n",
       "      <td>5.4</td>\n",
       "      <td>26.9</td>\n",
       "      <td>0.0</td>\n",
       "      <td>NaN</td>\n",
       "      <td>NaN</td>\n",
       "      <td>N</td>\n",
       "      <td>37.0</td>\n",
       "      <td>SE</td>\n",
       "      <td>...</td>\n",
       "      <td>53.0</td>\n",
       "      <td>24.0</td>\n",
       "      <td>1021.0</td>\n",
       "      <td>1016.8</td>\n",
       "      <td>NaN</td>\n",
       "      <td>NaN</td>\n",
       "      <td>12.5</td>\n",
       "      <td>26.1</td>\n",
       "      <td>No</td>\n",
       "      <td>No</td>\n",
       "    </tr>\n",
       "    <tr>\n",
       "      <th>142192</th>\n",
       "      <td>2017-06-24</td>\n",
       "      <td>Uluru</td>\n",
       "      <td>7.8</td>\n",
       "      <td>27.0</td>\n",
       "      <td>0.0</td>\n",
       "      <td>NaN</td>\n",
       "      <td>NaN</td>\n",
       "      <td>SE</td>\n",
       "      <td>28.0</td>\n",
       "      <td>SSE</td>\n",
       "      <td>...</td>\n",
       "      <td>51.0</td>\n",
       "      <td>24.0</td>\n",
       "      <td>1019.4</td>\n",
       "      <td>1016.5</td>\n",
       "      <td>3.0</td>\n",
       "      <td>2.0</td>\n",
       "      <td>15.1</td>\n",
       "      <td>26.0</td>\n",
       "      <td>No</td>\n",
       "      <td>No</td>\n",
       "    </tr>\n",
       "  </tbody>\n",
       "</table>\n",
       "<p>142193 rows × 23 columns</p>\n",
       "</div>"
      ],
      "text/plain": [
       "              Date Location  MinTemp  MaxTemp  Rainfall  Evaporation  \\\n",
       "0       2008-12-01   Albury     13.4     22.9       0.6          NaN   \n",
       "1       2008-12-02   Albury      7.4     25.1       0.0          NaN   \n",
       "2       2008-12-03   Albury     12.9     25.7       0.0          NaN   \n",
       "3       2008-12-04   Albury      9.2     28.0       0.0          NaN   \n",
       "4       2008-12-05   Albury     17.5     32.3       1.0          NaN   \n",
       "...            ...      ...      ...      ...       ...          ...   \n",
       "142188  2017-06-20    Uluru      3.5     21.8       0.0          NaN   \n",
       "142189  2017-06-21    Uluru      2.8     23.4       0.0          NaN   \n",
       "142190  2017-06-22    Uluru      3.6     25.3       0.0          NaN   \n",
       "142191  2017-06-23    Uluru      5.4     26.9       0.0          NaN   \n",
       "142192  2017-06-24    Uluru      7.8     27.0       0.0          NaN   \n",
       "\n",
       "        Sunshine WindGustDir  WindGustSpeed WindDir9am  ... Humidity9am  \\\n",
       "0            NaN           W           44.0          W  ...        71.0   \n",
       "1            NaN         WNW           44.0        NNW  ...        44.0   \n",
       "2            NaN         WSW           46.0          W  ...        38.0   \n",
       "3            NaN          NE           24.0         SE  ...        45.0   \n",
       "4            NaN           W           41.0        ENE  ...        82.0   \n",
       "...          ...         ...            ...        ...  ...         ...   \n",
       "142188       NaN           E           31.0        ESE  ...        59.0   \n",
       "142189       NaN           E           31.0         SE  ...        51.0   \n",
       "142190       NaN         NNW           22.0         SE  ...        56.0   \n",
       "142191       NaN           N           37.0         SE  ...        53.0   \n",
       "142192       NaN          SE           28.0        SSE  ...        51.0   \n",
       "\n",
       "        Humidity3pm  Pressure9am  Pressure3pm  Cloud9am  Cloud3pm  Temp9am  \\\n",
       "0              22.0       1007.7       1007.1       8.0       NaN     16.9   \n",
       "1              25.0       1010.6       1007.8       NaN       NaN     17.2   \n",
       "2              30.0       1007.6       1008.7       NaN       2.0     21.0   \n",
       "3              16.0       1017.6       1012.8       NaN       NaN     18.1   \n",
       "4              33.0       1010.8       1006.0       7.0       8.0     17.8   \n",
       "...             ...          ...          ...       ...       ...      ...   \n",
       "142188         27.0       1024.7       1021.2       NaN       NaN      9.4   \n",
       "142189         24.0       1024.6       1020.3       NaN       NaN     10.1   \n",
       "142190         21.0       1023.5       1019.1       NaN       NaN     10.9   \n",
       "142191         24.0       1021.0       1016.8       NaN       NaN     12.5   \n",
       "142192         24.0       1019.4       1016.5       3.0       2.0     15.1   \n",
       "\n",
       "        Temp3pm  RainToday  RainTomorrow  \n",
       "0          21.8         No            No  \n",
       "1          24.3         No            No  \n",
       "2          23.2         No            No  \n",
       "3          26.5         No            No  \n",
       "4          29.7         No            No  \n",
       "...         ...        ...           ...  \n",
       "142188     20.9         No            No  \n",
       "142189     22.4         No            No  \n",
       "142190     24.5         No            No  \n",
       "142191     26.1         No            No  \n",
       "142192     26.0         No            No  \n",
       "\n",
       "[142193 rows x 23 columns]"
      ]
     },
     "metadata": {},
     "output_type": "display_data"
    }
   ],
   "source": [
    "# https://www.kaggle.com/jsphyg/weather-dataset-rattle-package \n",
    "\n",
    "# import data \n",
    "data = pd.read_csv('weatherAUS.csv')\n",
    "\n",
    "# drop 'risk' column according to dataset creator\n",
    "data.drop(columns=['RISK_MM'], inplace=True)\n",
    "\n",
    "display(data)"
   ]
  },
  {
   "cell_type": "markdown",
   "metadata": {},
   "source": [
    "### How our data is constructed ?"
   ]
  },
  {
   "cell_type": "code",
   "execution_count": 3,
   "metadata": {
    "scrolled": true
   },
   "outputs": [
    {
     "data": {
      "text/plain": [
       "Index(['Date', 'Location', 'MinTemp', 'MaxTemp', 'Rainfall', 'Evaporation',\n",
       "       'Sunshine', 'WindGustDir', 'WindGustSpeed', 'WindDir9am', 'WindDir3pm',\n",
       "       'WindSpeed9am', 'WindSpeed3pm', 'Humidity9am', 'Humidity3pm',\n",
       "       'Pressure9am', 'Pressure3pm', 'Cloud9am', 'Cloud3pm', 'Temp9am',\n",
       "       'Temp3pm', 'RainToday', 'RainTomorrow'],\n",
       "      dtype='object')"
      ]
     },
     "execution_count": 3,
     "metadata": {},
     "output_type": "execute_result"
    }
   ],
   "source": [
    "# what columns ?\n",
    "data.columns"
   ]
  },
  {
   "cell_type": "code",
   "execution_count": 4,
   "metadata": {},
   "outputs": [
    {
     "data": {
      "text/plain": [
       "\"\\ndata = data[['Date', 'Location', 'MinTemp', 'MaxTemp', 'Evaporation',\\n       'WindGustDir', 'WindGustSpeed', 'WindDir9am', 'WindDir3pm',\\n       'WindSpeed9am', 'WindSpeed3pm', 'Humidity9am', 'Humidity3pm',\\n       'Pressure9am', 'Pressure3pm', 'Temp9am',\\n       'Temp3pm', 'RainToday']]\\n\""
      ]
     },
     "execution_count": 4,
     "metadata": {},
     "output_type": "execute_result"
    }
   ],
   "source": [
    "# drop some data, juged to be not too important\n",
    "\"\"\"\n",
    "data = data[['Date', 'Location', 'MinTemp', 'MaxTemp', 'Evaporation',\n",
    "       'WindGustDir', 'WindGustSpeed', 'WindDir9am', 'WindDir3pm',\n",
    "       'WindSpeed9am', 'WindSpeed3pm', 'Humidity9am', 'Humidity3pm',\n",
    "       'Pressure9am', 'Pressure3pm', 'Temp9am',\n",
    "       'Temp3pm', 'RainToday']]\n",
    "\"\"\""
   ]
  },
  {
   "cell_type": "code",
   "execution_count": 5,
   "metadata": {},
   "outputs": [
    {
     "data": {
      "text/plain": [
       "Canberra            3418\n",
       "Sydney              3337\n",
       "Perth               3193\n",
       "Darwin              3192\n",
       "Hobart              3188\n",
       "Brisbane            3161\n",
       "Adelaide            3090\n",
       "Bendigo             3034\n",
       "Townsville          3033\n",
       "AliceSprings        3031\n",
       "MountGambier        3030\n",
       "Ballarat            3028\n",
       "Launceston          3028\n",
       "Albany              3016\n",
       "Albury              3011\n",
       "MelbourneAirport    3009\n",
       "PerthAirport        3009\n",
       "Mildura             3007\n",
       "SydneyAirport       3005\n",
       "Nuriootpa           3002\n",
       "Sale                3000\n",
       "Watsonia            2999\n",
       "Tuggeranong         2998\n",
       "Portland            2996\n",
       "Woomera             2990\n",
       "Cobar               2988\n",
       "Cairns              2988\n",
       "Wollongong          2983\n",
       "GoldCoast           2980\n",
       "WaggaWagga          2976\n",
       "NorfolkIsland       2964\n",
       "Penrith             2964\n",
       "SalmonGums          2955\n",
       "Newcastle           2955\n",
       "CoffsHarbour        2953\n",
       "Witchcliffe         2952\n",
       "Richmond            2951\n",
       "Dartmoor            2943\n",
       "NorahHead           2929\n",
       "BadgerysCreek       2928\n",
       "MountGinini         2907\n",
       "Moree               2854\n",
       "Walpole             2819\n",
       "PearceRAAF          2762\n",
       "Williamtown         2553\n",
       "Melbourne           2435\n",
       "Nhil                1569\n",
       "Katherine           1559\n",
       "Uluru               1521\n",
       "Name: Location, dtype: int64"
      ]
     },
     "execution_count": 5,
     "metadata": {},
     "output_type": "execute_result"
    }
   ],
   "source": [
    "data.Location.value_counts() # there is some variation in the number of data available for each city, but no one is underrepresented"
   ]
  },
  {
   "cell_type": "code",
   "execution_count": 6,
   "metadata": {
    "scrolled": true
   },
   "outputs": [
    {
     "name": "stdout",
     "output_type": "stream",
     "text": [
      "Sydney              1\n",
      "Watsonia            1\n",
      "PearceRAAF          1\n",
      "MountGinini         1\n",
      "SydneyAirport       1\n",
      "Launceston          1\n",
      "Albury              1\n",
      "Nuriootpa           1\n",
      "Bendigo             1\n",
      "Dartmoor            1\n",
      "Katherine           1\n",
      "Uluru               1\n",
      "Melbourne           1\n",
      "Cairns              1\n",
      "Williamtown         1\n",
      "Albany              1\n",
      "Nhil                1\n",
      "Sale                1\n",
      "MelbourneAirport    1\n",
      "WaggaWagga          1\n",
      "PerthAirport        1\n",
      "BadgerysCreek       1\n",
      "Cobar               1\n",
      "AliceSprings        1\n",
      "Darwin              1\n",
      "NorahHead           1\n",
      "Tuggeranong         1\n",
      "Perth               1\n",
      "Witchcliffe         1\n",
      "Canberra            1\n",
      "NorfolkIsland       1\n",
      "Hobart              1\n",
      "Wollongong          1\n",
      "SalmonGums          1\n",
      "Moree               1\n",
      "Ballarat            1\n",
      "Townsville          1\n",
      "Woomera             1\n",
      "MountGambier        1\n",
      "Mildura             1\n",
      "GoldCoast           1\n",
      "CoffsHarbour        1\n",
      "Brisbane            1\n",
      "Adelaide            1\n",
      "Walpole             1\n",
      "Richmond            1\n",
      "Portland            1\n",
      "Newcastle           1\n",
      "Penrith             1\n",
      "Name: Location, dtype: int64\n",
      "Sydney              1\n",
      "Watsonia            1\n",
      "PearceRAAF          1\n",
      "MountGinini         1\n",
      "SydneyAirport       1\n",
      "Launceston          1\n",
      "Albury              1\n",
      "Nuriootpa           1\n",
      "Bendigo             1\n",
      "Dartmoor            1\n",
      "Katherine           1\n",
      "Uluru               1\n",
      "Melbourne           1\n",
      "Cairns              1\n",
      "Williamtown         1\n",
      "Albany              1\n",
      "Nhil                1\n",
      "Sale                1\n",
      "MelbourneAirport    1\n",
      "WaggaWagga          1\n",
      "PerthAirport        1\n",
      "BadgerysCreek       1\n",
      "Cobar               1\n",
      "AliceSprings        1\n",
      "Darwin              1\n",
      "NorahHead           1\n",
      "Tuggeranong         1\n",
      "Perth               1\n",
      "Witchcliffe         1\n",
      "Canberra            1\n",
      "NorfolkIsland       1\n",
      "Hobart              1\n",
      "Wollongong          1\n",
      "SalmonGums          1\n",
      "Moree               1\n",
      "Ballarat            1\n",
      "Townsville          1\n",
      "Woomera             1\n",
      "MountGambier        1\n",
      "Mildura             1\n",
      "GoldCoast           1\n",
      "CoffsHarbour        1\n",
      "Brisbane            1\n",
      "Adelaide            1\n",
      "Walpole             1\n",
      "Richmond            1\n",
      "Portland            1\n",
      "Newcastle           1\n",
      "Penrith             1\n",
      "Name: Location, dtype: int64\n"
     ]
    }
   ],
   "source": [
    "# example for one date with multiple data line : => only one date if we filter on one location\n",
    "z = data.Date.value_counts().index[0]\n",
    "print(data['Location'].loc[data.Date == z].value_counts())\n",
    "\n",
    "\n",
    "print(data['Location'].loc[data.Date == z].value_counts())\n"
   ]
  },
  {
   "cell_type": "markdown",
   "metadata": {},
   "source": [
    "# Feature engineering"
   ]
  },
  {
   "cell_type": "markdown",
   "metadata": {},
   "source": [
    "### 1. 'Date' column"
   ]
  },
  {
   "cell_type": "code",
   "execution_count": 69,
   "metadata": {},
   "outputs": [],
   "source": [
    "# extract the month of the year from the 'Date' column\n",
    "\n",
    "def extract_month(row):\n",
    "    return row.split('-')[1]\n",
    "\n",
    "data['Month'] = data.Date.apply(extract_month)\n",
    "\n",
    "\n",
    "# we drop 'Date' column\n",
    "data.drop(columns=['Date'], inplace=True)"
   ]
  },
  {
   "cell_type": "code",
   "execution_count": 70,
   "metadata": {},
   "outputs": [
    {
     "data": {
      "text/plain": [
       "Text(0.5, 1.0, 'Number of rainy day by month')"
      ]
     },
     "execution_count": 70,
     "metadata": {},
     "output_type": "execute_result"
    },
    {
     "data": {
      "image/png": "[encoded data removed]",
      "text/plain": [
       "<Figure size 432x288 with 1 Axes>"
      ]
     },
     "metadata": {
      "needs_background": "light"
     },
     "output_type": "display_data"
    }
   ],
   "source": [
    "#influence of the month on the number of days raining ?\n",
    "\n",
    "x = pd.crosstab(data.Month, data.RainToday)\n",
    "plt.plot(x.iloc[:,1], 'r+--')\n",
    "plt.title(\"Number of rainy day by month\")"
   ]
  },
  {
   "cell_type": "code",
   "execution_count": 71,
   "metadata": {},
   "outputs": [
    {
     "data": {
      "text/plain": [
       "Text(0.5, 1.0, 'Number of meteo data by month')"
      ]
     },
     "execution_count": 71,
     "metadata": {},
     "output_type": "execute_result"
    },
    {
     "data": {
      "image/png": "[encoded data removed]",
      "text/plain": [
       "<Figure size 432x288 with 1 Axes>"
      ]
     },
     "metadata": {
      "needs_background": "light"
     },
     "output_type": "display_data"
    }
   ],
   "source": [
    "# Number of values by month :\n",
    "\n",
    "x =data['Month'].value_counts().sort_index()\n",
    "\n",
    "plt.plot(x, 'r+--')\n",
    "plt.title('Number of meteo data by month')"
   ]
  },
  {
   "cell_type": "markdown",
   "metadata": {},
   "source": [
    "We get a varying number of data depending on the month, but we can still see the impact of the month on the rain"
   ]
  },
  {
   "cell_type": "markdown",
   "metadata": {},
   "source": [
    "### 2. Difference of temperature in the day (DeltaTemperature)"
   ]
  },
  {
   "cell_type": "code",
   "execution_count": 72,
   "metadata": {},
   "outputs": [],
   "source": [
    "# Compute delta squared temperature features (between min and max of the day)\n",
    "\n",
    "x = data['MinTemp']\n",
    "y = data['MaxTemp']\n",
    "z = target['RainTomorrow']\n",
    "\n",
    "data['DeltaTemperature'] = (y - x)"
   ]
  },
  {
   "cell_type": "code",
   "execution_count": 73,
   "metadata": {},
   "outputs": [
    {
     "data": {
      "text/plain": [
       "<AxesSubplot:xlabel='RainToday', ylabel='DeltaTemperature'>"
      ]
     },
     "execution_count": 73,
     "metadata": {},
     "output_type": "execute_result"
    },
    {
     "data": {
      "image/png": "[encoded data removed]",
      "text/plain": [
       "<Figure size 432x288 with 1 Axes>"
      ]
     },
     "metadata": {
      "needs_background": "light"
     },
     "output_type": "display_data"
    }
   ],
   "source": [
    "# box plot, with distinction with the value of 'RainTomorrow'\n",
    "\n",
    "sns.boxplot(x=\"RainToday\", y=\"DeltaTemperature\", data=data)\n"
   ]
  },
  {
   "cell_type": "code",
   "execution_count": 16,
   "metadata": {},
   "outputs": [
    {
     "data": {
      "text/plain": [
       "<AxesSubplot:xlabel='RainTomorrow', ylabel='DeltaTemperature'>"
      ]
     },
     "execution_count": 16,
     "metadata": {},
     "output_type": "execute_result"
    },
    {
     "data": {
      "image/png": "[encoded data removed]",
      "text/plain": [
       "<Figure size 432x288 with 1 Axes>"
      ]
     },
     "metadata": {
      "needs_background": "light"
     },
     "output_type": "display_data"
    }
   ],
   "source": [
    "sns.boxplot(x=\"RainTomorrow\", y=\"DeltaTemperature\", data=data)\n",
    "\n",
    "# The difference of temperature seems to have an influence on the rain  (today and tomorrow)"
   ]
  },
  {
   "cell_type": "markdown",
   "metadata": {},
   "source": [
    "We see that the temperature difference in a day tends to happens in days when it's not raining the current nor the next day"
   ]
  },
  {
   "cell_type": "markdown",
   "metadata": {},
   "source": [
    "### 3. Number of days without rain (DayWithoutRain)"
   ]
  },
  {
   "cell_type": "code",
   "execution_count": 83,
   "metadata": {},
   "outputs": [],
   "source": [
    "# Compute the number of day without rain (by location)\n",
    "\n",
    "def compute_daywithoutrain(red_data):\n",
    "    \"\"\"\n",
    "    compute the number of days without rain\n",
    "    supposing we one city in the data\n",
    "    \"\"\"\n",
    "    # cant compute for the first rain day\n",
    "    x =  red_data['RainToday']\n",
    "\n",
    "    rain_idx = np.where(x == 'Yes')[0]\n",
    "\n",
    "    start_idx = rain_idx.min()+1\n",
    "\n",
    "    liste = []\n",
    "\n",
    "    for index, elem in red_data.iterrows():\n",
    "\n",
    "        if index >= start_idx  :\n",
    "\n",
    "            day_count = index - rain_idx[np.where(rain_idx < index)[0].max()] -1\n",
    "\n",
    "            liste.append(day_count)\n",
    "\n",
    "        else: \n",
    "            liste.append(np.nan)\n",
    "    \n",
    "    return liste"
   ]
  },
  {
   "cell_type": "code",
   "execution_count": 84,
   "metadata": {},
   "outputs": [
    {
     "name": "stderr",
     "output_type": "stream",
     "text": [
      "/home/klegoff/.local/lib/python3.8/site-packages/pandas/core/indexing.py:670: SettingWithCopyWarning: \n",
      "A value is trying to be set on a copy of a slice from a DataFrame\n",
      "\n",
      "See the caveats in the documentation: https://pandas.pydata.org/pandas-docs/stable/user_guide/indexing.html#returning-a-view-versus-a-copy\n",
      "  iloc._setitem_with_indexer(indexer, value)\n"
     ]
    }
   ],
   "source": [
    "data['DayWithoutRain'] = np.nan\n",
    "\n",
    "grouped_data = data.groupby('Location')\n",
    "\n",
    "# default value, will indicate empty value for this feature\n",
    "\n",
    "for elem in list(grouped_data.groups) :\n",
    "    red_data = grouped_data.get_group(elem)\n",
    "    \n",
    "    data['DayWithoutRain'].loc[red_data.index] =  compute_daywithoutrain(red_data.reset_index(drop=True))"
   ]
  },
  {
   "cell_type": "code",
   "execution_count": 85,
   "metadata": {
    "scrolled": true
   },
   "outputs": [
    {
     "data": {
      "text/plain": [
       "<AxesSubplot:ylabel='Frequency'>"
      ]
     },
     "execution_count": 85,
     "metadata": {},
     "output_type": "execute_result"
    },
    {
     "data": {
      "image/png": "[encoded data removed]",
      "text/plain": [
       "<Figure size 432x288 with 1 Axes>"
      ]
     },
     "metadata": {
      "needs_background": "light"
     },
     "output_type": "display_data"
    }
   ],
   "source": [
    "# Histogram plot of the frequency of each number of days without rain (only <= 50)\n",
    "data.DayWithoutRain.loc[(data.DayWithoutRain <= 50)].plot.hist(bins = len(data.DayWithoutRain.value_counts()))"
   ]
  },
  {
   "cell_type": "code",
   "execution_count": 94,
   "metadata": {},
   "outputs": [
    {
     "data": {
      "text/plain": [
       "<AxesSubplot:xlabel='RainTomorrow', ylabel='DayWithoutRain'>"
      ]
     },
     "execution_count": 94,
     "metadata": {},
     "output_type": "execute_result"
    },
    {
     "data": {
      "image/png": "[encoded data removed]",
      "text/plain": [
       "<Figure size 432x288 with 1 Axes>"
      ]
     },
     "metadata": {
      "needs_background": "light"
     },
     "output_type": "display_data"
    }
   ],
   "source": [
    "# box plot of the number of days withoutrain, with distinction with the value of 'RainTomorrow'\n",
    "#focus number of days without rain > 20\n",
    "\n",
    "sns.boxplot(x=\"RainTomorrow\", y=\"DayWithoutRain\", data=data.loc[data.DayWithoutRain>20])\n"
   ]
  },
  {
   "cell_type": "code",
   "execution_count": 95,
   "metadata": {
    "scrolled": false
   },
   "outputs": [
    {
     "data": {
      "text/plain": [
       "<AxesSubplot:xlabel='RainTomorrow', ylabel='DayWithoutRain'>"
      ]
     },
     "execution_count": 95,
     "metadata": {},
     "output_type": "execute_result"
    },
    {
     "data": {
      "image/png": "[encoded data removed]",
      "text/plain": [
       "<Figure size 432x288 with 1 Axes>"
      ]
     },
     "metadata": {
      "needs_background": "light"
     },
     "output_type": "display_data"
    }
   ],
   "source": [
    "# box plot of the number of days withoutrain, with distinction with the value of 'RainTomorrow'\n",
    "\n",
    "sns.boxplot(x=\"RainTomorrow\", y=\"DayWithoutRain\", data=data.loc[data.DayWithoutRain<20])"
   ]
  },
  {
   "cell_type": "markdown",
   "metadata": {},
   "source": [
    "We can conclude, that for days where we have a low number of days without rain we have more chances to have a rainy day. In other terms, rainy days come in groups."
   ]
  },
  {
   "cell_type": "markdown",
   "metadata": {},
   "source": [
    "### 4. Exploration of the wind data"
   ]
  },
  {
   "cell_type": "code",
   "execution_count": 111,
   "metadata": {},
   "outputs": [
    {
     "name": "stdout",
     "output_type": "stream",
     "text": [
      "0           W\n",
      "1         WNW\n",
      "2         WSW\n",
      "3          NE\n",
      "4           W\n",
      "         ... \n",
      "142188      E\n",
      "142189      E\n",
      "142190    NNW\n",
      "142191      N\n",
      "142192     SE\n",
      "Name: WindGustDir, Length: 142193, dtype: object\n",
      "W      9780\n",
      "SE     9309\n",
      "E      9071\n",
      "N      9033\n",
      "SSE    8993\n",
      "S      8949\n",
      "WSW    8901\n",
      "SW     8797\n",
      "SSW    8610\n",
      "WNW    8066\n",
      "NW     8003\n",
      "ENE    7992\n",
      "ESE    7305\n",
      "NE     7060\n",
      "NNW    6561\n",
      "NNE    6433\n",
      "Name: WindGustDir, dtype: int64\n"
     ]
    }
   ],
   "source": [
    "# wind direction feature 'WindGustDir', 'WindDir9am', 'WindDir3pm'\n",
    "\n",
    "# direction => probably not very useful (same goes for 3pm and 9 am)\n",
    "x = data['WindGustDir']\n",
    "print(x)\n",
    "print(x.value_counts())\n",
    "\n",
    "\n",
    "# we drop these columns\n",
    "data.drop(columns = ['WindGustDir', 'WindDir9am', 'WindDir3pm'], inplace=True)"
   ]
  },
  {
   "cell_type": "code",
   "execution_count": 118,
   "metadata": {},
   "outputs": [
    {
     "data": {
      "image/png": "[encoded data removed]",
      "text/plain": [
       "<Figure size 432x288 with 3 Axes>"
      ]
     },
     "metadata": {
      "needs_background": "light"
     },
     "output_type": "display_data"
    }
   ],
   "source": [
    "# wind speed :  'WindGustSpeed', 'WindSpeed9am', 'WindSpeed3pm'\n",
    "\n",
    "\n",
    "fig, axes = plt.subplots(1,3)\n",
    "\n",
    "# speed\n",
    "sns.boxplot(x=\"RainTomorrow\", y=\"WindGustSpeed\", data=data, ax=axes[0])\n",
    "\n",
    "\n",
    "# 9 am speed\n",
    "sns.boxplot(x=\"RainTomorrow\", y=\"WindSpeed9am\", data=data, ax=axes[1])\n",
    "\n",
    "# 3 pm speed \n",
    "sns.boxplot(x=\"RainTomorrow\", y=\"WindSpeed3pm\", data=data, ax=axes[2])\n",
    "\n",
    "# keep only Gust speed, since the most discriminative (max gust)\n",
    "data.drop(columns = ['WindSpeed9am', 'WindSpeed3pm'], inplace=True)"
   ]
  },
  {
   "cell_type": "code",
   "execution_count": 119,
   "metadata": {},
   "outputs": [
    {
     "data": {
      "text/plain": [
       "<AxesSubplot:xlabel='RainTomorrow', ylabel='WindGustSpeed'>"
      ]
     },
     "execution_count": 119,
     "metadata": {},
     "output_type": "execute_result"
    },
    {
     "data": {
      "image/png": "[encoded data removed]",
      "text/plain": [
       "<Figure size 432x288 with 1 Axes>"
      ]
     },
     "metadata": {
      "needs_background": "light"
     },
     "output_type": "display_data"
    }
   ],
   "source": [
    "# Is there a relation between the wind and the rain ?\n",
    "\n",
    "sns.boxplot(x=\"RainTomorrow\", y=\"WindGustSpeed\", data=data)\n",
    "\n",
    "# rainy days tends to have a higher wind speed maximum"
   ]
  },
  {
   "cell_type": "markdown",
   "metadata": {},
   "source": [
    "### 5. Exploration of the humidity data"
   ]
  },
  {
   "cell_type": "code",
   "execution_count": 137,
   "metadata": {},
   "outputs": [
    {
     "data": {
      "text/plain": [
       "<AxesSubplot:xlabel='RainTomorrow', ylabel='HumidityDelta'>"
      ]
     },
     "execution_count": 137,
     "metadata": {},
     "output_type": "execute_result"
    },
    {
     "data": {
      "image/png": "[encoded data removed]",
      "text/plain": [
       "<Figure size 720x720 with 3 Axes>"
      ]
     },
     "metadata": {
      "needs_background": "light"
     },
     "output_type": "display_data"
    }
   ],
   "source": [
    "# humidity feature 'Humidity9am', 'Humidity3pm'\n",
    "\n",
    "data['HumidityDelta'] = (data['Humidity3pm'] - data['Humidity9am'])\n",
    "\n",
    "# humidity delta seems more relevant\n",
    "fig, axes = plt.subplots(1,3, figsize=(10,10))\n",
    "\n",
    "# 3 pm humidity \n",
    "sns.boxplot(x=\"RainTomorrow\", y=\"Humidity3pm\", data=data, ax=axes[0])\n",
    "\n",
    "# 9 am humidity\n",
    "sns.boxplot(x=\"RainTomorrow\", y=\"Humidity9am\", data=data, ax=axes[1])\n",
    "\n",
    "sns.boxplot(x=\"RainTomorrow\", y=\"HumidityDelta\", data=data, ax=axes[2])\n"
   ]
  },
  {
   "cell_type": "markdown",
   "metadata": {},
   "source": [
    "It seems that the current's day humidity has an impact on the next day's rain (3pm humidity is more discriminant than 9am one, which seems normal)\n",
    "Let's keep the HumidityDelta as a feature, since it combines both in one."
   ]
  },
  {
   "cell_type": "markdown",
   "metadata": {},
   "source": [
    "### 6. Exploration of the pressure data"
   ]
  },
  {
   "cell_type": "code",
   "execution_count": 139,
   "metadata": {},
   "outputs": [
    {
     "data": {
      "text/plain": [
       "<AxesSubplot:xlabel='RainTomorrow', ylabel='PressureDelta'>"
      ]
     },
     "execution_count": 139,
     "metadata": {},
     "output_type": "execute_result"
    },
    {
     "data": {
      "image/png": "[encoded data removed]",
      "text/plain": [
       "<Figure size 720x720 with 3 Axes>"
      ]
     },
     "metadata": {
      "needs_background": "light"
     },
     "output_type": "display_data"
    }
   ],
   "source": [
    "# pressure feature  'Pressure9am', 'Pressure3pm'\n",
    "\n",
    "data['PressureDelta'] = data['Pressure3pm'] - data['Pressure9am']\n",
    "\n",
    "fig, axes = plt.subplots(1,3, figsize=(10,10))\n",
    "\n",
    "# 3 pm humidity \n",
    "sns.boxplot(x=\"RainTomorrow\", y=\"Pressure3pm\", data=data, ax=axes[0])\n",
    "\n",
    "# 9 am humidity\n",
    "sns.boxplot(x=\"RainTomorrow\", y=\"Pressure9am\", data=data, ax=axes[1])\n",
    "\n",
    "sns.boxplot(x=\"RainTomorrow\", y=\"PressureDelta\", data=data, ax=axes[2])\n"
   ]
  },
  {
   "cell_type": "markdown",
   "metadata": {},
   "source": [
    "The day before a rainy day tends to have lower pressure. We can see that the pressure delta can discriminate days with a big pressure drop (lower decile has a wider range than for days that aren't followed by rainy day)"
   ]
  },
  {
   "cell_type": "code",
   "execution_count": 141,
   "metadata": {},
   "outputs": [],
   "source": [
    "### 7. Exploration of the temperature data"
   ]
  },
  {
   "cell_type": "code",
   "execution_count": 143,
   "metadata": {},
   "outputs": [
    {
     "data": {
      "image/png": "[encoded data removed]",
      "text/plain": [
       "<Figure size 720x720 with 3 Axes>"
      ]
     },
     "metadata": {
      "needs_background": "light"
     },
     "output_type": "display_data"
    }
   ],
   "source": [
    "# temperature feature  'Temp9am', 'Temp3pm'\n",
    "\n",
    "data['DeltaTemp'] = data['Temp3pm'] - data['Temp9am']\n",
    "\n",
    "fig, axes = plt.subplots(1,3, figsize=(10,10))\n",
    "\n",
    "# 3 pm temperature \n",
    "sns.boxplot(x=\"RainTomorrow\", y=\"Temp3pm\", data=data, ax=axes[0])\n",
    "\n",
    "# 9 am temperature\n",
    "sns.boxplot(x=\"RainTomorrow\", y=\"Temp9am\", data=data, ax=axes[1])\n",
    "\n",
    "sns.boxplot(x=\"RainTomorrow\", y=\"DeltaTemp\", data=data, ax=axes[2])\n",
    "\n",
    "# temperatures arent discriminative, but temperature delta is\n",
    "data.drop(columns=['Temp3pm','Temp9am'], inplace = True)"
   ]
  },
  {
   "cell_type": "markdown",
   "metadata": {},
   "source": [
    "### 9. Impact of the location"
   ]
  },
  {
   "cell_type": "code",
   "execution_count": 180,
   "metadata": {},
   "outputs": [
    {
     "data": {
      "text/plain": [
       "Adelaide            0.218770\n",
       "Albany              0.296088\n",
       "Albury              0.204251\n",
       "AliceSprings        0.079512\n",
       "BadgerysCreek       0.195355\n",
       "Ballarat            0.256935\n",
       "Bendigo             0.185234\n",
       "Brisbane            0.222714\n",
       "Cairns              0.314926\n",
       "Canberra            0.182563\n",
       "Cobar               0.128514\n",
       "CoffsHarbour        0.292922\n",
       "Dartmoor            0.312946\n",
       "Darwin              0.266917\n",
       "GoldCoast           0.254027\n",
       "Hobart              0.239021\n",
       "Katherine           0.164849\n",
       "Launceston          0.230185\n",
       "Melbourne           0.238193\n",
       "MelbourneAirport    0.217016\n",
       "Mildura             0.108414\n",
       "Moree               0.133847\n",
       "MountGambier        0.303300\n",
       "MountGinini         0.268662\n",
       "Newcastle           0.243993\n",
       "Nhil                0.152964\n",
       "NorahHead           0.271424\n",
       "NorfolkIsland       0.307692\n",
       "Nuriootpa           0.195869\n",
       "PearceRAAF          0.171615\n",
       "Penrith             0.196019\n",
       "Perth               0.202004\n",
       "PerthAirport        0.188435\n",
       "Portland            0.363151\n",
       "Richmond            0.188072\n",
       "Sale                0.213667\n",
       "SalmonGums          0.158714\n",
       "Sydney              0.259515\n",
       "SydneyAirport       0.256905\n",
       "Townsville          0.170788\n",
       "Tuggeranong         0.187458\n",
       "Uluru               0.074293\n",
       "WaggaWagga          0.179099\n",
       "Walpole             0.329195\n",
       "Watsonia            0.244748\n",
       "Williamtown         0.248727\n",
       "Witchcliffe         0.295054\n",
       "Wollongong          0.236004\n",
       "Woomera             0.067224\n",
       "Name: Proportion of rain days, dtype: float64"
      ]
     },
     "metadata": {},
     "output_type": "display_data"
    }
   ],
   "source": [
    "# idea : encode the region, by integers with a notion of order (from the lowest frequent rain city to the highest)\n",
    "\n",
    "def rain_proportion(city):\n",
    "    \"\"\"\n",
    "    return the proportion of days that have \"RainTomorrow\" = \"Yes\"\n",
    "    \"\"\"\n",
    "    red_data = grouped_data.get_group(city)\n",
    "    return len(np.where(red_data.RainToday == \"Yes\")[0])/len(red_data)\n",
    "\n",
    "#count proportion of days with rain in each city\n",
    "\n",
    "grouped_data = data.groupby('Location')\n",
    "\n",
    "city_list = list(grouped_data.groups.keys())\n",
    "proportion_list = []\n",
    "\n",
    "for city in city_list:\n",
    "    \n",
    "    proportion_list.append(rain_proportion(city))\n",
    "\n",
    "RainProportion = pd.Series(proportion_list, index=city_list,name=\"Proportion of rain days\")\n",
    "\n",
    "display(RainProportion)"
   ]
  },
  {
   "cell_type": "code",
   "execution_count": 194,
   "metadata": {},
   "outputs": [
    {
     "data": {
      "text/plain": [
       "Text(0.5, 1.0, 'Proportion of rain days, ordered from the least rainy city to the most rainy')"
      ]
     },
     "execution_count": 194,
     "metadata": {},
     "output_type": "execute_result"
    },
    {
     "data": {
      "image/png": "[encoded data removed]",
      "text/plain": [
       "<Figure size 432x288 with 1 Axes>"
      ]
     },
     "metadata": {
      "needs_background": "light"
     },
     "output_type": "display_data"
    }
   ],
   "source": [
    "#We sort the city by growing proportion of rain days\n",
    "RainProportion = RainProportion.sort_values()\n",
    "plt.plot(RainProportion.values,'b+--')\n",
    "plt.title('Proportion of rain days, ordered from the least rainy city to the most rainy')\n"
   ]
  },
  {
   "cell_type": "code",
   "execution_count": 207,
   "metadata": {},
   "outputs": [],
   "source": [
    "# We replace the names of the cities by their rank on the list of the leat rainy cities\n",
    "\n",
    "ordered_city = list(RainProportion.index)\n",
    "replace_dict = {}\n",
    "\n",
    "for i in range(len(ordered_city)):\n",
    "    replace_dict[ordered_city[i]] = i\n",
    "#target.replace({'Yes':1,'No':0}, inplace =True)\n",
    "\n",
    "data = data.replace(replace_dict)"
   ]
  },
  {
   "cell_type": "code",
   "execution_count": 211,
   "metadata": {},
   "outputs": [
    {
     "name": "stdout",
     "output_type": "stream",
     "text": [
      "{'Woomera': 0, 'Uluru': 1, 'AliceSprings': 2, 'Mildura': 3, 'Cobar': 4, 'Moree': 5, 'Nhil': 6, 'SalmonGums': 7, 'Katherine': 8, 'Townsville': 9, 'PearceRAAF': 10, 'WaggaWagga': 11, 'Canberra': 12, 'Bendigo': 13, 'Tuggeranong': 14, 'Richmond': 15, 'PerthAirport': 16, 'BadgerysCreek': 17, 'Nuriootpa': 18, 'Penrith': 19, 'Perth': 20, 'Albury': 21, 'Sale': 22, 'MelbourneAirport': 23, 'Adelaide': 24, 'Brisbane': 25, 'Launceston': 26, 'Wollongong': 27, 'Melbourne': 28, 'Hobart': 29, 'Newcastle': 30, 'Watsonia': 31, 'Williamtown': 32, 'GoldCoast': 33, 'SydneyAirport': 34, 'Ballarat': 35, 'Sydney': 36, 'Darwin': 37, 'MountGinini': 38, 'NorahHead': 39, 'CoffsHarbour': 40, 'Witchcliffe': 41, 'Albany': 42, 'MountGambier': 43, 'NorfolkIsland': 44, 'Dartmoor': 45, 'Cairns': 46, 'Walpole': 47, 'Portland': 48}\n"
     ]
    }
   ],
   "source": [
    "print(replace_dict)"
   ]
  },
  {
   "cell_type": "markdown",
   "metadata": {},
   "source": [
    "### 10. Type replacement, and filtering out the unused features"
   ]
  },
  {
   "cell_type": "code",
   "execution_count": 148,
   "metadata": {},
   "outputs": [],
   "source": [
    "target = data[['RainTomorrow']]\n",
    "data.drop(columns='RainTomorrow', inplace=True)"
   ]
  },
  {
   "cell_type": "code",
   "execution_count": 213,
   "metadata": {},
   "outputs": [],
   "source": [
    "columns_to_keep = ['Location', 'MinTemp', 'MaxTemp', 'Rainfall','WindGustSpeed', 'Humidity9am', 'Humidity3pm','Pressure9am', 'Pressure3pm','RainToday', 'HumidityDelta', 'PressureDelta', 'DeltaTemp']\n",
    "\n",
    "data = data[columns_to_keep]"
   ]
  },
  {
   "cell_type": "code",
   "execution_count": 214,
   "metadata": {},
   "outputs": [
    {
     "data": {
      "text/html": [
       "<div>\n",
       "<style scoped>\n",
       "    .dataframe tbody tr th:only-of-type {\n",
       "        vertical-align: middle;\n",
       "    }\n",
       "\n",
       "    .dataframe tbody tr th {\n",
       "        vertical-align: top;\n",
       "    }\n",
       "\n",
       "    .dataframe thead th {\n",
       "        text-align: right;\n",
       "    }\n",
       "</style>\n",
       "<table border=\"1\" class=\"dataframe\">\n",
       "  <thead>\n",
       "    <tr style=\"text-align: right;\">\n",
       "      <th></th>\n",
       "      <th>Location</th>\n",
       "      <th>MinTemp</th>\n",
       "      <th>MaxTemp</th>\n",
       "      <th>Rainfall</th>\n",
       "      <th>WindGustSpeed</th>\n",
       "      <th>Humidity9am</th>\n",
       "      <th>Humidity3pm</th>\n",
       "      <th>Pressure9am</th>\n",
       "      <th>Pressure3pm</th>\n",
       "      <th>RainToday</th>\n",
       "      <th>HumidityDelta</th>\n",
       "      <th>PressureDelta</th>\n",
       "      <th>DeltaTemp</th>\n",
       "    </tr>\n",
       "  </thead>\n",
       "  <tbody>\n",
       "    <tr>\n",
       "      <th>0</th>\n",
       "      <td>21</td>\n",
       "      <td>13.4</td>\n",
       "      <td>22.9</td>\n",
       "      <td>0.6</td>\n",
       "      <td>44.0</td>\n",
       "      <td>71.0</td>\n",
       "      <td>22.0</td>\n",
       "      <td>1007.7</td>\n",
       "      <td>1007.1</td>\n",
       "      <td>No</td>\n",
       "      <td>-49.0</td>\n",
       "      <td>-0.6</td>\n",
       "      <td>4.9</td>\n",
       "    </tr>\n",
       "    <tr>\n",
       "      <th>1</th>\n",
       "      <td>21</td>\n",
       "      <td>7.4</td>\n",
       "      <td>25.1</td>\n",
       "      <td>0.0</td>\n",
       "      <td>44.0</td>\n",
       "      <td>44.0</td>\n",
       "      <td>25.0</td>\n",
       "      <td>1010.6</td>\n",
       "      <td>1007.8</td>\n",
       "      <td>No</td>\n",
       "      <td>-19.0</td>\n",
       "      <td>-2.8</td>\n",
       "      <td>7.1</td>\n",
       "    </tr>\n",
       "    <tr>\n",
       "      <th>2</th>\n",
       "      <td>21</td>\n",
       "      <td>12.9</td>\n",
       "      <td>25.7</td>\n",
       "      <td>0.0</td>\n",
       "      <td>46.0</td>\n",
       "      <td>38.0</td>\n",
       "      <td>30.0</td>\n",
       "      <td>1007.6</td>\n",
       "      <td>1008.7</td>\n",
       "      <td>No</td>\n",
       "      <td>-8.0</td>\n",
       "      <td>1.1</td>\n",
       "      <td>2.2</td>\n",
       "    </tr>\n",
       "    <tr>\n",
       "      <th>3</th>\n",
       "      <td>21</td>\n",
       "      <td>9.2</td>\n",
       "      <td>28.0</td>\n",
       "      <td>0.0</td>\n",
       "      <td>24.0</td>\n",
       "      <td>45.0</td>\n",
       "      <td>16.0</td>\n",
       "      <td>1017.6</td>\n",
       "      <td>1012.8</td>\n",
       "      <td>No</td>\n",
       "      <td>-29.0</td>\n",
       "      <td>-4.8</td>\n",
       "      <td>8.4</td>\n",
       "    </tr>\n",
       "    <tr>\n",
       "      <th>4</th>\n",
       "      <td>21</td>\n",
       "      <td>17.5</td>\n",
       "      <td>32.3</td>\n",
       "      <td>1.0</td>\n",
       "      <td>41.0</td>\n",
       "      <td>82.0</td>\n",
       "      <td>33.0</td>\n",
       "      <td>1010.8</td>\n",
       "      <td>1006.0</td>\n",
       "      <td>No</td>\n",
       "      <td>-49.0</td>\n",
       "      <td>-4.8</td>\n",
       "      <td>11.9</td>\n",
       "    </tr>\n",
       "    <tr>\n",
       "      <th>...</th>\n",
       "      <td>...</td>\n",
       "      <td>...</td>\n",
       "      <td>...</td>\n",
       "      <td>...</td>\n",
       "      <td>...</td>\n",
       "      <td>...</td>\n",
       "      <td>...</td>\n",
       "      <td>...</td>\n",
       "      <td>...</td>\n",
       "      <td>...</td>\n",
       "      <td>...</td>\n",
       "      <td>...</td>\n",
       "      <td>...</td>\n",
       "    </tr>\n",
       "    <tr>\n",
       "      <th>142188</th>\n",
       "      <td>1</td>\n",
       "      <td>3.5</td>\n",
       "      <td>21.8</td>\n",
       "      <td>0.0</td>\n",
       "      <td>31.0</td>\n",
       "      <td>59.0</td>\n",
       "      <td>27.0</td>\n",
       "      <td>1024.7</td>\n",
       "      <td>1021.2</td>\n",
       "      <td>No</td>\n",
       "      <td>-32.0</td>\n",
       "      <td>-3.5</td>\n",
       "      <td>11.5</td>\n",
       "    </tr>\n",
       "    <tr>\n",
       "      <th>142189</th>\n",
       "      <td>1</td>\n",
       "      <td>2.8</td>\n",
       "      <td>23.4</td>\n",
       "      <td>0.0</td>\n",
       "      <td>31.0</td>\n",
       "      <td>51.0</td>\n",
       "      <td>24.0</td>\n",
       "      <td>1024.6</td>\n",
       "      <td>1020.3</td>\n",
       "      <td>No</td>\n",
       "      <td>-27.0</td>\n",
       "      <td>-4.3</td>\n",
       "      <td>12.3</td>\n",
       "    </tr>\n",
       "    <tr>\n",
       "      <th>142190</th>\n",
       "      <td>1</td>\n",
       "      <td>3.6</td>\n",
       "      <td>25.3</td>\n",
       "      <td>0.0</td>\n",
       "      <td>22.0</td>\n",
       "      <td>56.0</td>\n",
       "      <td>21.0</td>\n",
       "      <td>1023.5</td>\n",
       "      <td>1019.1</td>\n",
       "      <td>No</td>\n",
       "      <td>-35.0</td>\n",
       "      <td>-4.4</td>\n",
       "      <td>13.6</td>\n",
       "    </tr>\n",
       "    <tr>\n",
       "      <th>142191</th>\n",
       "      <td>1</td>\n",
       "      <td>5.4</td>\n",
       "      <td>26.9</td>\n",
       "      <td>0.0</td>\n",
       "      <td>37.0</td>\n",
       "      <td>53.0</td>\n",
       "      <td>24.0</td>\n",
       "      <td>1021.0</td>\n",
       "      <td>1016.8</td>\n",
       "      <td>No</td>\n",
       "      <td>-29.0</td>\n",
       "      <td>-4.2</td>\n",
       "      <td>13.6</td>\n",
       "    </tr>\n",
       "    <tr>\n",
       "      <th>142192</th>\n",
       "      <td>1</td>\n",
       "      <td>7.8</td>\n",
       "      <td>27.0</td>\n",
       "      <td>0.0</td>\n",
       "      <td>28.0</td>\n",
       "      <td>51.0</td>\n",
       "      <td>24.0</td>\n",
       "      <td>1019.4</td>\n",
       "      <td>1016.5</td>\n",
       "      <td>No</td>\n",
       "      <td>-27.0</td>\n",
       "      <td>-2.9</td>\n",
       "      <td>10.9</td>\n",
       "    </tr>\n",
       "  </tbody>\n",
       "</table>\n",
       "<p>142193 rows × 13 columns</p>\n",
       "</div>"
      ],
      "text/plain": [
       "        Location  MinTemp  MaxTemp  Rainfall  WindGustSpeed  Humidity9am  \\\n",
       "0             21     13.4     22.9       0.6           44.0         71.0   \n",
       "1             21      7.4     25.1       0.0           44.0         44.0   \n",
       "2             21     12.9     25.7       0.0           46.0         38.0   \n",
       "3             21      9.2     28.0       0.0           24.0         45.0   \n",
       "4             21     17.5     32.3       1.0           41.0         82.0   \n",
       "...          ...      ...      ...       ...            ...          ...   \n",
       "142188         1      3.5     21.8       0.0           31.0         59.0   \n",
       "142189         1      2.8     23.4       0.0           31.0         51.0   \n",
       "142190         1      3.6     25.3       0.0           22.0         56.0   \n",
       "142191         1      5.4     26.9       0.0           37.0         53.0   \n",
       "142192         1      7.8     27.0       0.0           28.0         51.0   \n",
       "\n",
       "        Humidity3pm  Pressure9am  Pressure3pm RainToday  HumidityDelta  \\\n",
       "0              22.0       1007.7       1007.1        No          -49.0   \n",
       "1              25.0       1010.6       1007.8        No          -19.0   \n",
       "2              30.0       1007.6       1008.7        No           -8.0   \n",
       "3              16.0       1017.6       1012.8        No          -29.0   \n",
       "4              33.0       1010.8       1006.0        No          -49.0   \n",
       "...             ...          ...          ...       ...            ...   \n",
       "142188         27.0       1024.7       1021.2        No          -32.0   \n",
       "142189         24.0       1024.6       1020.3        No          -27.0   \n",
       "142190         21.0       1023.5       1019.1        No          -35.0   \n",
       "142191         24.0       1021.0       1016.8        No          -29.0   \n",
       "142192         24.0       1019.4       1016.5        No          -27.0   \n",
       "\n",
       "        PressureDelta  DeltaTemp  \n",
       "0                -0.6        4.9  \n",
       "1                -2.8        7.1  \n",
       "2                 1.1        2.2  \n",
       "3                -4.8        8.4  \n",
       "4                -4.8       11.9  \n",
       "...               ...        ...  \n",
       "142188           -3.5       11.5  \n",
       "142189           -4.3       12.3  \n",
       "142190           -4.4       13.6  \n",
       "142191           -4.2       13.6  \n",
       "142192           -2.9       10.9  \n",
       "\n",
       "[142193 rows x 13 columns]"
      ]
     },
     "execution_count": 214,
     "metadata": {},
     "output_type": "execute_result"
    }
   ],
   "source": [
    "data"
   ]
  },
  {
   "cell_type": "code",
   "execution_count": 215,
   "metadata": {},
   "outputs": [
    {
     "name": "stderr",
     "output_type": "stream",
     "text": [
      "/home/klegoff/.local/lib/python3.8/site-packages/pandas/core/frame.py:4373: SettingWithCopyWarning: \n",
      "A value is trying to be set on a copy of a slice from a DataFrame\n",
      "\n",
      "See the caveats in the documentation: https://pandas.pydata.org/pandas-docs/stable/user_guide/indexing.html#returning-a-view-versus-a-copy\n",
      "  return super().replace(\n"
     ]
    }
   ],
   "source": [
    "# transform non numerical features into numerical & deal with 'nan' values\n",
    "\n",
    "target.replace({'Yes':1,'No':0}, inplace =True)\n",
    "\n",
    "data.replace({'Yes':1,'No':0}, inplace =True)\n",
    "\n",
    "# evaporation, windgustspeed : nan => 0\n",
    "#data.replace({'WindGustSpeed':np.nan , 'Evaporation' : np.nan}, 0, inplace=True)"
   ]
  },
  {
   "cell_type": "code",
   "execution_count": 219,
   "metadata": {},
   "outputs": [],
   "source": [
    "# Save the preprocessed data\n",
    "\n",
    "data.to_csv('preprocessed_data.csv')\n",
    "target.to_csv('target.csv')"
   ]
  }
 ],
 "metadata": {
  "kernelspec": {
   "display_name": "Python 3",
   "language": "python",
   "name": "python3"
  },
  "language_info": {
   "codemirror_mode": {
    "name": "ipython",
    "version": 3
   },
   "file_extension": ".py",
   "mimetype": "text/x-python",
   "name": "python",
   "nbconvert_exporter": "python",
   "pygments_lexer": "ipython3",
   "version": "3.8.5"
  }
 },
 "nbformat": 4,
 "nbformat_minor": 2
}
